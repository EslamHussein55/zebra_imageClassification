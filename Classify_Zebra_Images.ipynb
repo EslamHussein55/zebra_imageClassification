{
 "cells": [
  {
   "cell_type": "markdown",
   "id": "558f47ec-b769-4260-88af-3fc92741ed02",
   "metadata": {},
   "source": [
    "# Welcome to the image classification notebook"
   ]
  },
  {
   "cell_type": "markdown",
   "id": "d2c6e667-0841-44b0-8fdc-c4914630f527",
   "metadata": {},
   "source": [
    "This notebook will cover the following areas:\n",
    " - visualize images in python\n",
    " - perform feature reduction on the images using **Gabor filter**\n",
    " - divide the data into training and testing splits\n",
    " - build a simple **support vector machines** (SVMs) classifier\n",
    " - perform hyper-parameter tuning"
   ]
  },
  {
   "cell_type": "markdown",
   "id": "3f557108-23c0-4fb1-983e-cfe73b0569a0",
   "metadata": {},
   "source": [
    "---"
   ]
  },
  {
   "cell_type": "markdown",
   "id": "bee67a8b-19b4-4602-9871-cf04adc83430",
   "metadata": {},
   "source": [
    "First we import some libraries:"
   ]
  },
  {
   "cell_type": "code",
   "execution_count": null,
   "id": "673d481c-20a3-46ba-98b6-f5a63584ce22",
   "metadata": {},
   "outputs": [],
   "source": [
    "# ___Cell no. 1___\n",
    "\n",
    "import matplotlib.pyplot as plt\n",
    "import numpy as np\n",
    "import glob\n",
    "\n",
    "#imports for the Gabor filter (used for feature )\n",
    "from scipy import ndimage as ndi\n",
    "from skimage.filters import gabor_kernel\n",
    "from scipy.stats import kurtosis, skew\n",
    "#\n",
    "from sklearn.model_selection import train_test_split \n",
    "from sklearn import datasets,  metrics\n",
    "from sklearn.svm import SVC\n"
   ]
  },
  {
   "cell_type": "markdown",
   "id": "fd5945d3-9bde-40c0-ad8e-e2ab4de69294",
   "metadata": {},
   "source": [
    "---"
   ]
  },
  {
   "cell_type": "markdown",
   "id": "75ea80ad-4056-44f9-93b8-4299c1f548c0",
   "metadata": {},
   "source": [
    "#### Gabor features"
   ]
  },
  {
   "cell_type": "code",
   "execution_count": null,
   "id": "31e1c396-6afa-4ba5-a719-1a9b6966d9a1",
   "metadata": {},
   "outputs": [],
   "source": [
    "# ___Cell no. 2___\n",
    "\n",
    "# first we will define a function that will use Gabor filters to reduce the images to a constant set of features\n",
    "#define Gabor features\n",
    "def compute_feats(image, kernels):\n",
    "    feats = np.zeros((len(kernels), 2), dtype=np.double)\n",
    "    for k, kernel in enumerate(kernels):\n",
    "        filtered = ndi.convolve(image, kernel, mode='wrap')\n",
    "        #feats[k, 0] = filtered.mean()\n",
    "        #feats[k, 1] = filtered.var()\n",
    "        feats[k, 0] = kurtosis(np.reshape(filtered,-1))\n",
    "        feats[k, 1] = skew(np.reshape(filtered,-1))\n",
    "    return feats"
   ]
  },
  {
   "cell_type": "code",
   "execution_count": null,
   "id": "d2ddb5e2-f81e-47ab-88ae-16777e061912",
   "metadata": {},
   "outputs": [],
   "source": [
    "# ___Cell no. 3___\n",
    "\n",
    "# prepare Gabor filter bank kernels\n",
    "kernels = []\n",
    "for sigma in (1,4):\n",
    "    theta = np.pi\n",
    "    for frequency in (0.05, 0.25):\n",
    "        print('theta = {}, sigma = {} frequency = {}'.format(theta, sigma, frequency) )\n",
    "        kernel = np.real(gabor_kernel(frequency,theta=theta,sigma_x=sigma, sigma_y=sigma))\n",
    "        kernels.append(kernel)\n",
    "                         \n",
    "np.array(kernels, dtype=object).shape"
   ]
  },
  {
   "cell_type": "markdown",
   "id": "7afd6ca5-283e-49a2-a386-571d3b8e1331",
   "metadata": {},
   "source": [
    "#### Load Images"
   ]
  },
  {
   "cell_type": "code",
   "execution_count": null,
   "id": "f8643347-b29a-463b-a063-9eafbf6068a5",
   "metadata": {},
   "outputs": [],
   "source": [
    "# ___Cell no. 4___\n",
    "\n",
    "#load zebra into an array\n",
    "zebrafolder = '/users/hussein/source/zebra_imageClassification/images/zebra/'\n",
    "zebra_images = glob.glob('{}*.jpg'.format(zebrafolder)) # (array1) just collect all images that ends with 'jpg'\n",
    "\n",
    "#load non zebra images (others) into an array\n",
    "otherfolder = '/users/hussein/source/zebra_imageClassification/images/others/'\n",
    "other_images = glob.glob('{}*.jpg'.format(otherfolder)) #(array2)"
   ]
  },
  {
   "cell_type": "code",
   "execution_count": null,
   "id": "60d6e844-ec40-4b11-9b09-9602cf290dcc",
   "metadata": {},
   "outputs": [],
   "source": [
    "# ___Cell no. 5___\n",
    "\n",
    "print((zebra_images[0])) # showing the first element in the array"
   ]
  },
  {
   "cell_type": "markdown",
   "id": "176a6e0c-8189-4a3b-832b-131df954572c",
   "metadata": {},
   "source": [
    "the first images is number 376, which shows that the data is not sorted. sorting data in some other cases like time series can be essintial, bit not in this tutorial."
   ]
  },
  {
   "cell_type": "markdown",
   "id": "e92da03b-ed07-449a-b2e4-5f6f2f449bc7",
   "metadata": {},
   "source": [
    "---\n",
    "\n",
    "**Exercise 1:** try to sort the above arrays (array 1,2) using the sort function.\n",
    "<br>\n",
    "##### **hint: use google**\n",
    "---"
   ]
  },
  {
   "cell_type": "code",
   "execution_count": null,
   "id": "20d1c157-5a54-4e68-a244-dc3d20d28e5b",
   "metadata": {},
   "outputs": [],
   "source": [
    "#---- code here -----\n"
   ]
  },
  {
   "cell_type": "markdown",
   "id": "4553023c-daca-4701-91b8-d62f3081a6fd",
   "metadata": {},
   "source": [
    "<br>\n",
    "\n",
    "**Exercise 2:** try to visualise the first 10 images\n",
    "<br>\n",
    "##### **hint: use google**\n"
   ]
  },
  {
   "cell_type": "code",
   "execution_count": null,
   "id": "4b29f46b-0d52-4c26-b382-ba29dce0caf7",
   "metadata": {},
   "outputs": [],
   "source": [
    "#---- code here -----\n"
   ]
  },
  {
   "cell_type": "markdown",
   "id": "0ad714ea-4c94-4fa0-b6ab-cc69dd67c003",
   "metadata": {},
   "source": [
    "---"
   ]
  },
  {
   "cell_type": "markdown",
   "id": "7b1c9853-97f4-42b7-a657-aeddbdecb8a8",
   "metadata": {},
   "source": [
    "#### Building a Machine learning model"
   ]
  },
  {
   "cell_type": "markdown",
   "id": "a2c78f22-fda9-4748-8099-1775b43681f5",
   "metadata": {},
   "source": [
    "Before staring the ML part, there is some preprocessing that needs to be done. The main issue with this dataset is that all the images are of random sizes. To use this as a train/test dataset, we can do two things:\n",
    "\n",
    "1. Use Convolutional Neural Networks\n",
    "2. Use an image feature reduction technique. \n",
    "\n",
    "Here we're going to use Method 2. The image reduction technique we will use is Gabor Filters to reduce the images to 8 features."
   ]
  },
  {
   "cell_type": "code",
   "execution_count": null,
   "id": "e6000b26-98e4-4cd0-b064-6d8d70af1b5c",
   "metadata": {},
   "outputs": [],
   "source": [
    "# ___Cell no. 6___\n",
    "\n",
    "zebra_feats = np.zeros((len(zebra_images),9))\n",
    "for i, image in enumerate(zebra_images):\n",
    "    im = plt.imread(image,format='jpeg')\n",
    "    if len(im.shape) > 2:\n",
    "        imean = im.mean(axis=2) # converting 3D (RBG) images to 1D (greyscale)\n",
    "    else:\n",
    "        imean = im\n",
    "    imfeats = compute_feats(imean,kernels).reshape(-1) # computing the Gabor features\n",
    "    zebra_feats[i,:-1] = imfeats  # adding the reduced features\n",
    "    zebra_feats[i,-1] = 1  # adding the class label 1 for zebra and 0 for other images"
   ]
  },
  {
   "cell_type": "code",
   "execution_count": null,
   "id": "2995f5f1-0144-43ec-a253-021cb5085424",
   "metadata": {},
   "outputs": [],
   "source": [
    "# ___Cell no. 7___\n",
    "\n",
    "nozebra_feats = np.zeros((len(other_images),9))\n",
    "for i, image in enumerate(other_images):\n",
    "    im = plt.imread(image,format='jpeg')\n",
    "    imfeats = compute_feats(im.mean(axis=2),kernels).reshape(-1)\n",
    "    nozebra_feats[i,:-1] = imfeats \n",
    "    nozebra_feats[i,-1] = 0 "
   ]
  },
  {
   "cell_type": "code",
   "execution_count": null,
   "id": "b4a35995-0d1e-4c59-a92b-c56db5520f8c",
   "metadata": {},
   "outputs": [],
   "source": [
    "# ___Cell no. 8___\n",
    "\n",
    "print( \"The shape of zebra data: \" + str( np.array(zebra_feats).shape))\n",
    "print( \"The shape of nonzebra data: \" + str( np.array(nozebra_feats).shape))"
   ]
  },
  {
   "cell_type": "markdown",
   "id": "cea28eb9-ae51-4f80-b895-96dfe0b40a66",
   "metadata": {},
   "source": [
    "---"
   ]
  },
  {
   "cell_type": "markdown",
   "id": "c2423665-c547-4ef5-a086-f55bdf9a8655",
   "metadata": {},
   "source": [
    "#### combine the datasets\n"
   ]
  },
  {
   "cell_type": "code",
   "execution_count": null,
   "id": "9c37a0f9-241a-4bc5-8a57-f905b48123a1",
   "metadata": {},
   "outputs": [],
   "source": [
    "# ___Cell no. 9___\n",
    "\n",
    "ds = np.concatenate((nozebra_feats,zebra_feats), axis=0)"
   ]
  },
  {
   "cell_type": "markdown",
   "id": "7086107e-5679-45e0-8b9f-b372b6327ef2",
   "metadata": {},
   "source": [
    "#### sperate the input from the output"
   ]
  },
  {
   "cell_type": "code",
   "execution_count": null,
   "id": "900f0909-d1bd-4cd8-876e-746f7892b852",
   "metadata": {},
   "outputs": [],
   "source": [
    "# ___Cell no. 10___\n",
    "\n",
    "x = ds[:,:-1] # our input, features\n",
    "y = ds[:,-1]  # the output "
   ]
  },
  {
   "cell_type": "code",
   "execution_count": null,
   "id": "75b96618-8333-4109-b1f0-5fe8a9b9dfbe",
   "metadata": {},
   "outputs": [],
   "source": [
    "# ___Cell no. 11___\n",
    "\n",
    "print( \"The shape of input data: \" + str( np.array(x).shape))\n",
    "print( \"The shape of output data: \" + str( np.array(y).shape))"
   ]
  },
  {
   "cell_type": "markdown",
   "id": "94bbf0be-bbf5-4619-a8c5-6d6d20de1492",
   "metadata": {},
   "source": [
    "#### split the data"
   ]
  },
  {
   "cell_type": "code",
   "execution_count": null,
   "id": "c625ad93-c5b9-4b79-ab5f-54b4d52dc1cd",
   "metadata": {},
   "outputs": [],
   "source": [
    "# ___Cell no. 12___\n",
    "\n",
    "X_train, X_test, y_train, y_test = train_test_split(x, y, test_size=0.33, shuffle = True, random_state=66)"
   ]
  },
  {
   "cell_type": "code",
   "execution_count": null,
   "id": "a5351912-99d5-4b1c-9117-92c21c0fc935",
   "metadata": {},
   "outputs": [],
   "source": [
    "# ___Cell no. 13___\n",
    "\n",
    "print('Training data and target sizes: \\n{}, {}'.format(X_train.shape,y_train.shape))\n",
    "print('Test data and target sizes: \\n{}, {}'.format(X_test.shape,y_test.shape))"
   ]
  },
  {
   "cell_type": "markdown",
   "id": "7d283693-c160-4341-93ac-18878ee13a28",
   "metadata": {},
   "source": [
    "---\n",
    "\n",
    "**Exercise 3:** Once you've run through the tutorial, come back to this point and see what difference changing the relative size of your train:test datasets makes.\n",
    "\n",
    "---"
   ]
  },
  {
   "cell_type": "markdown",
   "id": "038bd0c1-01e7-4b94-ac03-eadbf04c7e33",
   "metadata": {},
   "source": [
    "#### Create a classifier"
   ]
  },
  {
   "cell_type": "code",
   "execution_count": null,
   "id": "a1684935-72fd-498a-98aa-3b2e1c8e48fd",
   "metadata": {},
   "outputs": [],
   "source": [
    "# ___Cell no. 14___\n",
    "\n",
    "# a support vector classifier\n",
    "classifier = SVC(C=1,kernel='rbf',gamma=1)\n",
    "#fit to the training data\n",
    "classifier.fit(X_train,y_train)"
   ]
  },
  {
   "cell_type": "code",
   "execution_count": null,
   "id": "5c25711e-17b2-492a-8285-0bf84ad9ce31",
   "metadata": {},
   "outputs": [],
   "source": [
    "# ___Cell no. 15___\n",
    "\n",
    "# now to Now predict the value of the digit on the test data\n",
    "y_pred = classifier.predict(X_test)"
   ]
  },
  {
   "cell_type": "markdown",
   "id": "9e6e2b76-730b-45a1-ae8e-589eaa7b0f84",
   "metadata": {},
   "source": [
    "#### Results"
   ]
  },
  {
   "cell_type": "code",
   "execution_count": null,
   "id": "12e21ff1-2a0e-4b65-abb8-4c6d7436182a",
   "metadata": {},
   "outputs": [],
   "source": [
    "# ___Cell no. 16___\n",
    "\n",
    "print(\"Confusion matrix:\\n%s\" % metrics.confusion_matrix(y_test, y_pred))\n",
    "print(\"Classification report for classifier %s:\\n%s\\n\"\n",
    "      % (classifier, metrics.classification_report(y_test, y_pred)))"
   ]
  },
  {
   "cell_type": "markdown",
   "id": "ae90a6b7-2fcd-47db-9aed-3fb2f3205a29",
   "metadata": {},
   "source": [
    "---"
   ]
  },
  {
   "cell_type": "markdown",
   "id": "93126067-c029-4f2a-8e4c-8b2f0023c415",
   "metadata": {},
   "source": [
    "#### now with paramter optmization"
   ]
  },
  {
   "cell_type": "code",
   "execution_count": null,
   "id": "6cbca14b-17dc-4415-b40b-eba12dc88475",
   "metadata": {},
   "outputs": [],
   "source": [
    "# ___Cell no. 17___\n",
    "\n",
    "from sklearn.model_selection import RandomizedSearchCV\n"
   ]
  },
  {
   "cell_type": "code",
   "execution_count": null,
   "id": "6bee9d39-7617-407f-a3b3-d638b8d6f376",
   "metadata": {},
   "outputs": [],
   "source": [
    "# ___Cell no. 18___\n",
    "\n",
    "C_range = np.logspace(-2, 10, 5) # define a set of values for the parameter C\n",
    "gamma_range = np.logspace(-9, 3, 5) # define a set of values for the parameter gamma\n",
    "\n",
    "svm = SVC(kernel=\"rbf\")\n",
    "svm_par = dict(gamma=gamma_range, C=C_range)"
   ]
  },
  {
   "cell_type": "code",
   "execution_count": null,
   "id": "dc8bd38f-cf8b-4a48-b1bd-65ab9e3550e8",
   "metadata": {},
   "outputs": [],
   "source": [
    "# ___Cell no. 19___\n",
    "\n",
    "svm_random = RandomizedSearchCV(estimator = svm, param_distributions = svm_par, n_iter = 4, cv = 3, verbose=2, random_state=42, n_jobs = 3)\n",
    "svm_random.fit(X_train, y_train)\n"
   ]
  },
  {
   "cell_type": "code",
   "execution_count": null,
   "id": "b581785a-a659-4f6c-8903-67d64fb3a6a6",
   "metadata": {},
   "outputs": [],
   "source": [
    "# ___Cell no. 20___\n",
    "\n",
    "print(\"the best chosen paramters are: \" + str(svm_random.best_params_))"
   ]
  },
  {
   "cell_type": "code",
   "execution_count": null,
   "id": "8a6e8684-8ebc-40eb-bac5-d483b3dd7d0b",
   "metadata": {},
   "outputs": [],
   "source": [
    "# ___Cell no. 21___\n",
    "\n",
    "y_pred2 = svm_random.predict(X_test)"
   ]
  },
  {
   "cell_type": "code",
   "execution_count": null,
   "id": "75a5c239-9fc1-467f-b450-c3660b49d6c9",
   "metadata": {},
   "outputs": [],
   "source": [
    "# ___Cell no. 22___\n",
    "\n",
    "print(\"Confusion matrix:\\n%s\" % metrics.confusion_matrix(y_test, y_pred2))\n",
    "print(\"Classification report for classifier : \")\n",
    "print ( metrics.classification_report(y_test, y_pred2))"
   ]
  },
  {
   "cell_type": "markdown",
   "id": "c08a8aff-9a17-4eff-8f88-7a61562540a1",
   "metadata": {},
   "source": [
    "---\n",
    "\n",
    "**Exercise 4:** Once you've run through the tutorial, change the hyperparameters (SVMs) and observe the difference. You also can try other models like CNNs, or random forest (RF).\n",
    "\n",
    "---"
   ]
  },
  {
   "cell_type": "markdown",
   "id": "7e73e2ab-3270-4e8f-a6f0-5d19417c0359",
   "metadata": {},
   "source": [
    "### You are now ready to start working on a bigger task!\n",
    "Think of what can we can do to make this more interesting\n",
    "\n",
    "For example, we can try to replace \"zebra\" and \"others\" data sets with [\"sad face emoji\"](https://www.google.com/search?q=sad+face+emoji&tbm=isch&ved=2ahUKEwisj7j7wI73AhUPahoKHXt-AeMQ2-cCegQIABAA&oq=sad+face+emoji&gs_lcp=CgNpbWcQAzIECAAQQzIECAAQQzIECAAQQzIECAAQQzIECAAQQzIFCAAQgAQyBQgAEIAEMgUIABCABDIFCAAQgAQyBQgAEIAEOgcIIxDvAxAnUNxAWKNFYNdLaABwAHgAgAHIA4gBmg6SAQcyLTIuMS4ymAEAoAEBqgELZ3dzLXdpei1pbWfAAQE&sclient=img&ei=HG5VYqyRLY_Uafv8hZgO&bih=977&biw=1841&rlz=1C1GCEU_enZA918ZA918&hl=en), [\"smiley face emoji\"](https://www.google.com/search?q=smiley+face+emoji&tbm=isch&ved=2ahUKEwiyotz3wI73AhUHGRoKHdFUDQ0Q2-cCegQIABAA&oq=smiley+face&gs_lcp=CgNpbWcQARgBMgcIIxDvAxAnMgcIABCxAxBDMgQIABBDMgQIABBDMgQIABBDMgQIABBDMgQIABBDMgQIABBDMgQIABBDMgQIABBDUABYAGCwF2gAcAB4AIAB-AKIAfgCkgEDMy0xmAEAqgELZ3dzLXdpei1pbWfAAQE&sclient=img&ei=FG5VYrLIOYeyaNGptWg&bih=977&biw=1841&rlz=1C1GCEU_enZA918ZA918&hl=en) and then perform binary classifcation.\n",
    "\n",
    "You will need to\n",
    "* Pick an interesting binary classification problem\n",
    "* Get the URLs for both data sets, in two separate files\n",
    "* Download both datasets\n",
    "* Perform binary classification\n",
    "* Draw some conclusions and present your findings"
   ]
  },
  {
   "cell_type": "code",
   "execution_count": null,
   "id": "3bad1a8a-bfdd-4c0b-a413-77f2dc6d3ef5",
   "metadata": {},
   "outputs": [],
   "source": []
  }
 ],
 "metadata": {
  "kernelspec": {
   "display_name": "zebra_ker",
   "language": "python",
   "name": "zebra_ker"
  },
  "language_info": {
   "codemirror_mode": {
    "name": "ipython",
    "version": 3
   },
   "file_extension": ".py",
   "mimetype": "text/x-python",
   "name": "python",
   "nbconvert_exporter": "python",
   "pygments_lexer": "ipython3",
   "version": "3.8.10"
  }
 },
 "nbformat": 4,
 "nbformat_minor": 5
}
